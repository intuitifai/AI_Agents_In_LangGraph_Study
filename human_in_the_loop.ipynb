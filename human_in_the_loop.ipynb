{
 "cells": [
  {
   "cell_type": "code",
   "execution_count": 3,
   "metadata": {},
   "outputs": [],
   "source": [
    "with open(\"./api_key.txt\", \"r\") as f:\n",
    "    api_key = f.readline()\n",
    "    \n",
    "with open(\"./tavily_key.txt\", \"r\") as f:\n",
    "    tavily_key = f.readline()"
   ]
  },
  {
   "cell_type": "code",
   "execution_count": 4,
   "metadata": {},
   "outputs": [],
   "source": [
    "from langgraph.graph import StateGraph, END\n",
    "from typing import TypedDict, Annotated\n",
    "import operator\n",
    "from langchain_core.messages import AnyMessage, SystemMessage, HumanMessage, ToolMessage\n",
    "from langchain_groq import ChatGroq\n",
    "from langchain_community.tools.tavily_search import TavilySearchResults\n",
    "from langchain.utilities.tavily_search import TavilySearchAPIWrapper\n",
    "from langgraph.checkpoint.sqlite import SqliteSaver"
   ]
  },
  {
   "cell_type": "code",
   "execution_count": 5,
   "metadata": {},
   "outputs": [],
   "source": [
    "import os\n",
    "\n",
    "os.environ[\"TAVILY_API_KEY\"] = tavily_key"
   ]
  },
  {
   "cell_type": "code",
   "execution_count": 6,
   "metadata": {},
   "outputs": [
    {
     "name": "stdout",
     "output_type": "stream",
     "text": [
      "<class 'langchain_community.tools.tavily_search.tool.TavilySearchResults'>\n",
      "tavily_search_results_json\n"
     ]
    }
   ],
   "source": [
    "tool = TavilySearchResults(max_results=2)\n",
    "print(type(tool))\n",
    "print(tool.name)"
   ]
  },
  {
   "cell_type": "code",
   "execution_count": 7,
   "metadata": {},
   "outputs": [],
   "source": [
    "from uuid import uuid4\n",
    "from langchain_core.messages import AnyMessage, SystemMessage, HumanMessage, AIMessage\n",
    "\n",
    "\"\"\"\n",
    "In previous examples we've annotated the messages state key\n",
    "with the default operator.add or + reducer, which always\n",
    "appends new messages to the end of the existing messages array.\n",
    "\n",
    "Now, to support replacing existing messages, we annotate the\n",
    "messages key with a customer reducer function, which replaces\n",
    "messages with the same id, and appends them otherwise.\n",
    "\"\"\"\n",
    "def reduce_messages(left: list[AnyMessage], right: list[AnyMessage]) -> list[AnyMessage]:\n",
    "    # assign ids to messages that don't have them\n",
    "    for message in right:\n",
    "        if not message.id:\n",
    "            message.id = str(uuid4())\n",
    "    # merge the new messages with the existing messages\n",
    "    merged = left.copy()\n",
    "    for message in right:\n",
    "        for i, existing in enumerate(merged):\n",
    "            # replace any existing messages with the same id\n",
    "            if existing.id == message.id:\n",
    "                merged[i] = message\n",
    "                break\n",
    "        else:\n",
    "            # append any new messages to the end\n",
    "            merged.append(message)\n",
    "    return merged\n",
    "\n",
    "class AgentState(TypedDict):\n",
    "    messages: Annotated[list[AnyMessage], reduce_messages]"
   ]
  },
  {
   "cell_type": "code",
   "execution_count": 10,
   "metadata": {},
   "outputs": [],
   "source": [
    "memory = SqliteSaver.from_conn_string(\":memory:\")"
   ]
  },
  {
   "cell_type": "code",
   "execution_count": 11,
   "metadata": {},
   "outputs": [],
   "source": [
    "class Agent:\n",
    "\n",
    "    def __init__(self, model, tools, checkpointer, system=\"\"):\n",
    "        self.system = system\n",
    "        graph = StateGraph(AgentState)\n",
    "        graph.add_node(\"llm\", self.call_chatgroq)\n",
    "        graph.add_node(\"action\", self.take_action)\n",
    "        graph.add_conditional_edges(\n",
    "            \"llm\",\n",
    "            self.exists_action,\n",
    "            {True: \"action\", False: END}\n",
    "        )\n",
    "        graph.add_edge(\"action\", \"llm\")\n",
    "        graph.set_entry_point(\"llm\")\n",
    "        self.graph = graph.compile(\n",
    "            checkpointer=checkpointer,\n",
    "            interrupt_before=['action'])\n",
    "        self.tools = {t.name: t for t in tools}\n",
    "        self.model = model.bind_tools(tools)\n",
    "\n",
    "    def exists_action(self, state: AgentState):\n",
    "        result = state['messages'][-1]\n",
    "        return len(result.tool_calls) > 0\n",
    "\n",
    "    def call_chatgroq(self, state: AgentState):\n",
    "        messages = state['messages']\n",
    "        if self.system:\n",
    "            messages = [SystemMessage(content=self.system)] + messages\n",
    "        message = self.model.invoke(messages)\n",
    "        return {'messages': [message]}\n",
    "\n",
    "    def take_action(self, state: AgentState):\n",
    "        tool_calls = state['messages'][-1].tool_calls\n",
    "        results = []\n",
    "        for t in tool_calls:\n",
    "            print(f\"Calling: {t}\")\n",
    "            if not t['name'] in self.tools:      # check for bad tool name from LLM\n",
    "                print(\"\\n ....bad tool name....\")\n",
    "                result = \"bad tool name, retry\"  # instruct LLM to retry if bad\n",
    "            else:\n",
    "                result = self.tools[t['name']].invoke(t['args'])\n",
    "            results.append(ToolMessage(tool_call_id=t['id'], name=t['name'], content=str(result)))\n",
    "        print(\"Back to the model!\")\n",
    "        return {'messages': results}"
   ]
  },
  {
   "cell_type": "code",
   "execution_count": 12,
   "metadata": {},
   "outputs": [],
   "source": [
    "prompt = \"\"\"You are a smart research assistant. Use the search engine to look up information. \\\n",
    "You are allowed to make multiple calls (either together or in sequence). \\\n",
    "Only look up information when you are sure of what you want. \\\n",
    "If you need to look up some information before asking a follow up question, you are allowed to do that!\n",
    "\"\"\"\n",
    "\n",
    "model = ChatGroq(\n",
    "    model=\"llama3-8b-8192\",  # Ensure this model ID is correct\n",
    "    temperature=0.7,\n",
    "    api_key=api_key\n",
    ")\n",
    "abot = Agent(model, [tool], system=prompt, checkpointer=memory)"
   ]
  },
  {
   "cell_type": "markdown",
   "metadata": {},
   "source": [
    "State Management: The graph maintains its state across executions. By passing None as input, you're instructing the graph to continue from its last known state.\n",
    "\n",
    "\n",
    "Thread Configuration: Ensuring the thread_id remains consistent allows the graph to track and manage the execution context appropriately."
   ]
  },
  {
   "cell_type": "code",
   "execution_count": 22,
   "metadata": {},
   "outputs": [
    {
     "name": "stdout",
     "output_type": "stream",
     "text": [
      "{'messages': [AIMessage(content='', additional_kwargs={'tool_calls': [{'id': 'call_x2sm', 'function': {'arguments': '{\"query\":\"weather in Patna\"}', 'name': 'tavily_search_results_json'}, 'type': 'function'}]}, response_metadata={'token_usage': {'completion_tokens': 73, 'prompt_tokens': 2052, 'total_tokens': 2125, 'completion_time': 0.060833333, 'prompt_time': 0.473400555, 'queue_time': -0.622239593, 'total_time': 0.534233888}, 'model_name': 'llama3-8b-8192', 'system_fingerprint': 'fp_6a6771ae9c', 'finish_reason': 'tool_calls', 'logprobs': None}, id='run-6825d3b9-0e63-432a-9743-5969316827d4-0', tool_calls=[{'name': 'tavily_search_results_json', 'args': {'query': 'weather in Patna'}, 'id': 'call_x2sm', 'type': 'tool_call'}], usage_metadata={'input_tokens': 2052, 'output_tokens': 73, 'total_tokens': 2125})]}\n",
      "()\n",
      "StateSnapshot(values={'messages': [HumanMessage(content='What is the weather in Patna?', additional_kwargs={}, response_metadata={}, id='cd7f5648-30d0-44c7-9dd1-73b3501d3189'), AIMessage(content='', additional_kwargs={'tool_calls': [{'id': 'call_x2sm', 'function': {'arguments': '{\"query\":\"weather in Patna\"}', 'name': 'tavily_search_results_json'}, 'type': 'function'}]}, response_metadata={'token_usage': {'completion_tokens': 73, 'prompt_tokens': 2052, 'total_tokens': 2125, 'completion_time': 0.060833333, 'prompt_time': 0.473400555, 'queue_time': -0.622239593, 'total_time': 0.534233888}, 'model_name': 'llama3-8b-8192', 'system_fingerprint': 'fp_6a6771ae9c', 'finish_reason': 'tool_calls', 'logprobs': None}, id='run-6825d3b9-0e63-432a-9743-5969316827d4-0', tool_calls=[{'name': 'tavily_search_results_json', 'args': {'query': 'weather in Patna'}, 'id': 'call_x2sm', 'type': 'tool_call'}], usage_metadata={'input_tokens': 2052, 'output_tokens': 73, 'total_tokens': 2125})]}, next=('action',), config={'configurable': {'thread_id': '1', 'checkpoint_ns': '', 'checkpoint_id': '1ef9a04d-71f2-65d5-8001-c589eba02fa9'}}, metadata={'source': 'loop', 'writes': {'llm': {'messages': [AIMessage(content='', additional_kwargs={'tool_calls': [{'id': 'call_x2sm', 'function': {'arguments': '{\"query\":\"weather in Patna\"}', 'name': 'tavily_search_results_json'}, 'type': 'function'}]}, response_metadata={'token_usage': {'completion_tokens': 73, 'prompt_tokens': 2052, 'total_tokens': 2125, 'completion_time': 0.060833333, 'prompt_time': 0.473400555, 'queue_time': -0.622239593, 'total_time': 0.534233888}, 'model_name': 'llama3-8b-8192', 'system_fingerprint': 'fp_6a6771ae9c', 'finish_reason': 'tool_calls', 'logprobs': None}, id='run-6825d3b9-0e63-432a-9743-5969316827d4-0', tool_calls=[{'name': 'tavily_search_results_json', 'args': {'query': 'weather in Patna'}, 'id': 'call_x2sm', 'type': 'tool_call'}], usage_metadata={'input_tokens': 2052, 'output_tokens': 73, 'total_tokens': 2125})]}}, 'step': 1, 'parents': {}}, created_at='2024-11-03T16:58:25.146384+00:00', parent_config={'configurable': {'thread_id': '1', 'checkpoint_ns': '', 'checkpoint_id': '1ef9a04d-667c-62f7-8000-8d81d244afe3'}}, tasks=(PregelTask(id='6aee5e77-7adc-6586-d105-d671755bb482', name='action', path=('__pregel_pull', 'action'), error=None, interrupts=(), state=None, result=None),))\n",
      "('action',)\n",
      "Calling: {'name': 'tavily_search_results_json', 'args': {'query': 'weather in Patna'}, 'id': 'call_x2sm', 'type': 'tool_call'}\n",
      "Back to the model!\n",
      "{'messages': [ToolMessage(content='[{\\'url\\': \\'https://www.weatherapi.com/\\', \\'content\\': \"{\\'location\\': {\\'name\\': \\'Patna\\', \\'region\\': \\'Bihar\\', \\'country\\': \\'India\\', \\'lat\\': 25.6, \\'lon\\': 85.1167, \\'tz_id\\': \\'Asia/Kolkata\\', \\'localtime_epoch\\': 1730653029, \\'localtime\\': \\'2024-11-03 22:27\\'}, \\'current\\': {\\'last_updated_epoch\\': 1730652300, \\'last_updated\\': \\'2024-11-03 22:15\\', \\'temp_c\\': 24.6, \\'temp_f\\': 76.2, \\'is_day\\': 0, \\'condition\\': {\\'text\\': \\'Clear\\', \\'icon\\': \\'//cdn.weatherapi.com/weather/64x64/night/113.png\\', \\'code\\': 1000}, \\'wind_mph\\': 4.7, \\'wind_kph\\': 7.6, \\'wind_degree\\': 236, \\'wind_dir\\': \\'WSW\\', \\'pressure_mb\\': 1013.0, \\'pressure_in\\': 29.9, \\'precip_mm\\': 0.0, \\'precip_in\\': 0.0, \\'humidity\\': 45, \\'cloud\\': 13, \\'feelslike_c\\': 25.4, \\'feelslike_f\\': 77.6, \\'windchill_c\\': 24.6, \\'windchill_f\\': 76.2, \\'heatindex_c\\': 25.4, \\'heatindex_f\\': 77.6, \\'dewpoint_c\\': 12.0, \\'dewpoint_f\\': 53.5, \\'vis_km\\': 10.0, \\'vis_miles\\': 6.0, \\'uv\\': 0.0, \\'gust_mph\\': 9.9, \\'gust_kph\\': 15.9}}\"}, {\\'url\\': \\'https://www.weatheravenue.com/en/asia/in/bihar/patna-weather-15-days.html\\', \\'content\\': \\'☼ Patna Bihar India 15 Day Weather Forecast. Today Patna Bihar India: Sunny with a temperature of 34°C and a wind West speed of 11 Km/h. The humidity will be 36% and there will be 0.0 mm of precipitation. ... Sunday 03 November 2024 . Patna. Sunny : 33°C 91°F | 24°C 75°F : 6 Km/h 4 mph: 10% : 39% . More details\\'}]', name='tavily_search_results_json', id='385af36d-237e-44ab-af62-de0723330da6', tool_call_id='call_x2sm')]}\n",
      "{'messages': [AIMessage(content='The weather in Patna, Bihar, India is currently clear with a temperature of 24.6°C (76.2°F) and a wind speed of 4.7 mph (7.6 km/h) from the west-southwest. The humidity is 45% and there is no precipitation. The forecast for the next 15 days is available, with sunny conditions expected today and a high temperature of 34°C (91°F).', additional_kwargs={}, response_metadata={'token_usage': {'completion_tokens': 92, 'prompt_tokens': 1622, 'total_tokens': 1714, 'completion_time': 0.076666667, 'prompt_time': 0.221083998, 'queue_time': 0.009008297999999998, 'total_time': 0.297750665}, 'model_name': 'llama3-8b-8192', 'system_fingerprint': 'fp_6a6771ae9c', 'finish_reason': 'stop', 'logprobs': None}, id='run-a8d2392f-4f0d-467a-9672-61497dc5b1ec-0', usage_metadata={'input_tokens': 1622, 'output_tokens': 92, 'total_tokens': 1714})]}\n",
      "StateSnapshot(values={'messages': [HumanMessage(content='What is the weather in Patna?', additional_kwargs={}, response_metadata={}, id='cd7f5648-30d0-44c7-9dd1-73b3501d3189'), AIMessage(content='', additional_kwargs={'tool_calls': [{'id': 'call_x2sm', 'function': {'arguments': '{\"query\":\"weather in Patna\"}', 'name': 'tavily_search_results_json'}, 'type': 'function'}]}, response_metadata={'token_usage': {'completion_tokens': 73, 'prompt_tokens': 2052, 'total_tokens': 2125, 'completion_time': 0.060833333, 'prompt_time': 0.473400555, 'queue_time': -0.622239593, 'total_time': 0.534233888}, 'model_name': 'llama3-8b-8192', 'system_fingerprint': 'fp_6a6771ae9c', 'finish_reason': 'tool_calls', 'logprobs': None}, id='run-6825d3b9-0e63-432a-9743-5969316827d4-0', tool_calls=[{'name': 'tavily_search_results_json', 'args': {'query': 'weather in Patna'}, 'id': 'call_x2sm', 'type': 'tool_call'}], usage_metadata={'input_tokens': 2052, 'output_tokens': 73, 'total_tokens': 2125}), ToolMessage(content='[{\\'url\\': \\'https://www.weatherapi.com/\\', \\'content\\': \"{\\'location\\': {\\'name\\': \\'Patna\\', \\'region\\': \\'Bihar\\', \\'country\\': \\'India\\', \\'lat\\': 25.6, \\'lon\\': 85.1167, \\'tz_id\\': \\'Asia/Kolkata\\', \\'localtime_epoch\\': 1730653029, \\'localtime\\': \\'2024-11-03 22:27\\'}, \\'current\\': {\\'last_updated_epoch\\': 1730652300, \\'last_updated\\': \\'2024-11-03 22:15\\', \\'temp_c\\': 24.6, \\'temp_f\\': 76.2, \\'is_day\\': 0, \\'condition\\': {\\'text\\': \\'Clear\\', \\'icon\\': \\'//cdn.weatherapi.com/weather/64x64/night/113.png\\', \\'code\\': 1000}, \\'wind_mph\\': 4.7, \\'wind_kph\\': 7.6, \\'wind_degree\\': 236, \\'wind_dir\\': \\'WSW\\', \\'pressure_mb\\': 1013.0, \\'pressure_in\\': 29.9, \\'precip_mm\\': 0.0, \\'precip_in\\': 0.0, \\'humidity\\': 45, \\'cloud\\': 13, \\'feelslike_c\\': 25.4, \\'feelslike_f\\': 77.6, \\'windchill_c\\': 24.6, \\'windchill_f\\': 76.2, \\'heatindex_c\\': 25.4, \\'heatindex_f\\': 77.6, \\'dewpoint_c\\': 12.0, \\'dewpoint_f\\': 53.5, \\'vis_km\\': 10.0, \\'vis_miles\\': 6.0, \\'uv\\': 0.0, \\'gust_mph\\': 9.9, \\'gust_kph\\': 15.9}}\"}, {\\'url\\': \\'https://www.weatheravenue.com/en/asia/in/bihar/patna-weather-15-days.html\\', \\'content\\': \\'☼ Patna Bihar India 15 Day Weather Forecast. Today Patna Bihar India: Sunny with a temperature of 34°C and a wind West speed of 11 Km/h. The humidity will be 36% and there will be 0.0 mm of precipitation. ... Sunday 03 November 2024 . Patna. Sunny : 33°C 91°F | 24°C 75°F : 6 Km/h 4 mph: 10% : 39% . More details\\'}]', name='tavily_search_results_json', id='385af36d-237e-44ab-af62-de0723330da6', tool_call_id='call_x2sm'), AIMessage(content='The weather in Patna, Bihar, India is currently clear with a temperature of 24.6°C (76.2°F) and a wind speed of 4.7 mph (7.6 km/h) from the west-southwest. The humidity is 45% and there is no precipitation. The forecast for the next 15 days is available, with sunny conditions expected today and a high temperature of 34°C (91°F).', additional_kwargs={}, response_metadata={'token_usage': {'completion_tokens': 92, 'prompt_tokens': 1622, 'total_tokens': 1714, 'completion_time': 0.076666667, 'prompt_time': 0.221083998, 'queue_time': 0.009008297999999998, 'total_time': 0.297750665}, 'model_name': 'llama3-8b-8192', 'system_fingerprint': 'fp_6a6771ae9c', 'finish_reason': 'stop', 'logprobs': None}, id='run-a8d2392f-4f0d-467a-9672-61497dc5b1ec-0', usage_metadata={'input_tokens': 1622, 'output_tokens': 92, 'total_tokens': 1714})]}, next=(), config={'configurable': {'thread_id': '1', 'checkpoint_ns': '', 'checkpoint_id': '1ef9a04d-9f02-63e9-8003-e29fa8a95839'}}, metadata={'source': 'loop', 'writes': {'llm': {'messages': [AIMessage(content='The weather in Patna, Bihar, India is currently clear with a temperature of 24.6°C (76.2°F) and a wind speed of 4.7 mph (7.6 km/h) from the west-southwest. The humidity is 45% and there is no precipitation. The forecast for the next 15 days is available, with sunny conditions expected today and a high temperature of 34°C (91°F).', additional_kwargs={}, response_metadata={'token_usage': {'completion_tokens': 92, 'prompt_tokens': 1622, 'total_tokens': 1714, 'completion_time': 0.076666667, 'prompt_time': 0.221083998, 'queue_time': 0.009008297999999998, 'total_time': 0.297750665}, 'model_name': 'llama3-8b-8192', 'system_fingerprint': 'fp_6a6771ae9c', 'finish_reason': 'stop', 'logprobs': None}, id='run-a8d2392f-4f0d-467a-9672-61497dc5b1ec-0', usage_metadata={'input_tokens': 1622, 'output_tokens': 92, 'total_tokens': 1714})]}}, 'step': 3, 'parents': {}}, created_at='2024-11-03T16:58:29.871481+00:00', parent_config={'configurable': {'thread_id': '1', 'checkpoint_ns': '', 'checkpoint_id': '1ef9a04d-98d4-6624-8002-3fbdeb1d0863'}}, tasks=())\n",
      "()\n"
     ]
    }
   ],
   "source": [
    "from langgraph.checkpoint.sqlite import SqliteSaver\n",
    "\n",
    "with SqliteSaver.from_conn_string(\":memory:\") as memory:\n",
    "    abot = Agent(model, [tool], system=prompt, checkpointer=memory)\n",
    "    messages = [HumanMessage(content='What is the weather in Patna?')]\n",
    "    thread = {\"configurable\": {\"thread_id\": \"1\"}}\n",
    "    for event in abot.graph.stream({\"messages\": messages}, thread):\n",
    "        for v in event.values():\n",
    "            print(v)\n",
    "    print(abot.graph.get_state(thread))\n",
    "    print(abot.graph.get_state(thread).next)\n",
    "    for event in abot.graph.stream(None, thread):\n",
    "        for v in event.values():\n",
    "            print(v)\n",
    "    print(abot.graph.get_state(thread))\n",
    "    print(abot.graph.get_state(thread).next)"
   ]
  },
  {
   "cell_type": "code",
   "execution_count": 25,
   "metadata": {},
   "outputs": [
    {
     "name": "stdout",
     "output_type": "stream",
     "text": [
      "{'messages': [AIMessage(content='', additional_kwargs={'tool_calls': [{'id': 'call_mxyy', 'function': {'arguments': '{\"query\":\"Rahul Kumar Bosch senior software engineer\"}', 'name': 'tavily_search_results_json'}, 'type': 'function'}]}, response_metadata={'token_usage': {'completion_tokens': 84, 'prompt_tokens': 1020, 'total_tokens': 1104, 'completion_time': 0.07, 'prompt_time': 0.118527458, 'queue_time': 0.007519612000000009, 'total_time': 0.188527458}, 'model_name': 'llama3-8b-8192', 'system_fingerprint': 'fp_a97cfe35ae', 'finish_reason': 'tool_calls', 'logprobs': None}, id='run-a91ccbb6-9257-49d2-88c5-843bafecabc7-0', tool_calls=[{'name': 'tavily_search_results_json', 'args': {'query': 'Rahul Kumar Bosch senior software engineer'}, 'id': 'call_mxyy', 'type': 'tool_call'}], usage_metadata={'input_tokens': 1020, 'output_tokens': 84, 'total_tokens': 1104})]}\n",
      "()\n",
      "\n",
      "Current State: StateSnapshot(values={'messages': [HumanMessage(content='Who is the Rahul Kumar working in Bosch as senior software engineer?', additional_kwargs={}, response_metadata={}, id='9ec2ea3e-9d83-4fa4-9331-7bc0d26c4f46'), AIMessage(content='', additional_kwargs={'tool_calls': [{'id': 'call_mxyy', 'function': {'arguments': '{\"query\":\"Rahul Kumar Bosch senior software engineer\"}', 'name': 'tavily_search_results_json'}, 'type': 'function'}]}, response_metadata={'token_usage': {'completion_tokens': 84, 'prompt_tokens': 1020, 'total_tokens': 1104, 'completion_time': 0.07, 'prompt_time': 0.118527458, 'queue_time': 0.007519612000000009, 'total_time': 0.188527458}, 'model_name': 'llama3-8b-8192', 'system_fingerprint': 'fp_a97cfe35ae', 'finish_reason': 'tool_calls', 'logprobs': None}, id='run-a91ccbb6-9257-49d2-88c5-843bafecabc7-0', tool_calls=[{'name': 'tavily_search_results_json', 'args': {'query': 'Rahul Kumar Bosch senior software engineer'}, 'id': 'call_mxyy', 'type': 'tool_call'}], usage_metadata={'input_tokens': 1020, 'output_tokens': 84, 'total_tokens': 1104})]}, next=('action',), config={'configurable': {'thread_id': '2', 'checkpoint_ns': '', 'checkpoint_id': '1ef9a05c-b373-67a4-8001-fb33856d0a29'}}, metadata={'source': 'loop', 'writes': {'llm': {'messages': [AIMessage(content='', additional_kwargs={'tool_calls': [{'id': 'call_mxyy', 'function': {'arguments': '{\"query\":\"Rahul Kumar Bosch senior software engineer\"}', 'name': 'tavily_search_results_json'}, 'type': 'function'}]}, response_metadata={'token_usage': {'completion_tokens': 84, 'prompt_tokens': 1020, 'total_tokens': 1104, 'completion_time': 0.07, 'prompt_time': 0.118527458, 'queue_time': 0.007519612000000009, 'total_time': 0.188527458}, 'model_name': 'llama3-8b-8192', 'system_fingerprint': 'fp_a97cfe35ae', 'finish_reason': 'tool_calls', 'logprobs': None}, id='run-a91ccbb6-9257-49d2-88c5-843bafecabc7-0', tool_calls=[{'name': 'tavily_search_results_json', 'args': {'query': 'Rahul Kumar Bosch senior software engineer'}, 'id': 'call_mxyy', 'type': 'tool_call'}], usage_metadata={'input_tokens': 1020, 'output_tokens': 84, 'total_tokens': 1104})]}}, 'step': 1, 'parents': {}}, created_at='2024-11-03T17:05:14.668193+00:00', parent_config={'configurable': {'thread_id': '2', 'checkpoint_ns': '', 'checkpoint_id': '1ef9a05c-adcd-6939-8000-110fee19b51b'}}, tasks=(PregelTask(id='765afec8-0d53-006c-d4fa-177153a7325f', name='action', path=('__pregel_pull', 'action'), error=None, interrupts=(), state=None, result=None),)) \n",
      "\n",
      "Calling: {'name': 'tavily_search_results_json', 'args': {'query': 'Rahul Kumar Bosch senior software engineer'}, 'id': 'call_mxyy', 'type': 'tool_call'}\n",
      "Back to the model!\n",
      "{'messages': [ToolMessage(content='[{\\'url\\': \\'https://www.researchgate.net/profile/Rahul-Kumar-213\\', \\'content\\': \\'Rahul KUMAR, Software Engineer of Bosch, Stuttgart | Contact Rahul KUMAR\\'}, {\\'url\\': \\'https://rocketreach.co/rahul-kumar-email_120458386\\', \\'content\\': \"Get RAHUL KUMAR\\'s email address (r*****@in.bosch.com) and phone number at RocketReach. Get 5 free searches. ... Senior Software Engineer @ Bosch India; Software Engineer @ Bosch India; Education. Nitte Institute of Technology, BANGALORE. Bachelor of Engineering (Computer and Information Sciences, General)\"}]', name='tavily_search_results_json', id='a5a2b19a-870f-4aa1-b419-d59e6d43d36f', tool_call_id='call_mxyy')]}\n",
      "{'messages': [AIMessage(content='Based on the results of the tool call, I can conclude that Rahul Kumar is indeed a Senior Software Engineer at Bosch, and I can provide more information about him.\\n\\nRahul Kumar is a software engineer at Bosch, based in Stuttgart, Germany. He has a profile on ResearchGate, a professional networking site for scientists and researchers, where he is listed as a software engineer at Bosch. Additionally, his contact information, including his email address and phone number, can be found on RocketReach, a people search platform.\\n\\nHere is the updated information:\\n\\nRahul Kumar is a Senior Software Engineer at Bosch, based in Stuttgart, Germany. He has a profile on ResearchGate and can be contacted through RocketReach.', additional_kwargs={}, response_metadata={'token_usage': {'completion_tokens': 144, 'prompt_tokens': 1234, 'total_tokens': 1378, 'completion_time': 0.12130344, 'prompt_time': 0.071161871, 'queue_time': 0.0016482469999999916, 'total_time': 0.192465311}, 'model_name': 'llama3-8b-8192', 'system_fingerprint': 'fp_179b0f92c9', 'finish_reason': 'stop', 'logprobs': None}, id='run-4b2dd4b8-361f-4b9b-a5c1-ede45108dd6a-0', usage_metadata={'input_tokens': 1234, 'output_tokens': 144, 'total_tokens': 1378})]}\n"
     ]
    }
   ],
   "source": [
    "# Initialize SqliteSaver with the file path\n",
    "with SqliteSaver.from_conn_string(\":memory:\") as memory:\n",
    "    # Initialize your agent with the SQLite-based memory\n",
    "    abot = Agent(model, [tool], system=prompt, checkpointer=memory)\n",
    "\n",
    "    # Define initial messages and thread configuration\n",
    "    messages = [HumanMessage(content=\"Who is the Rahul Kumar working in Bosch as senior software engineer?\")]\n",
    "    thread = {\"configurable\": {\"thread_id\": \"2\"}}\n",
    "\n",
    "    # Start processing messages\n",
    "    for event in abot.graph.stream({\"messages\": messages}, thread):\n",
    "        for v in event.values():\n",
    "            print(v)\n",
    "\n",
    "    # Loop to continue processing based on the current state\n",
    "    while abot.graph.get_state(thread).next:\n",
    "        print(\"\\nCurrent State:\", abot.graph.get_state(thread), \"\\n\")\n",
    "        \n",
    "        # User input to control the next step\n",
    "        _input = input(\"Proceed? (y to continue, any other key to abort): \")\n",
    "        if _input.lower() != \"y\":\n",
    "            print(\"Aborting process.\")\n",
    "            break\n",
    "\n",
    "        # Continue execution without new messages\n",
    "        for event in abot.graph.stream(None, thread):\n",
    "            for v in event.values():\n",
    "                print(v)"
   ]
  },
  {
   "cell_type": "markdown",
   "metadata": {},
   "source": [
    "Handling agent state by updating / modifying the query in between"
   ]
  },
  {
   "cell_type": "code",
   "execution_count": 45,
   "metadata": {},
   "outputs": [
    {
     "name": "stdout",
     "output_type": "stream",
     "text": [
      "{'messages': [AIMessage(content='', additional_kwargs={'tool_calls': [{'id': 'call_ma0c', 'function': {'arguments': '{\"query\":\"weather in Patna\"}', 'name': 'tavily_search_results_json'}, 'type': 'function'}]}, response_metadata={'token_usage': {'completion_tokens': 80, 'prompt_tokens': 2051, 'total_tokens': 2131, 'completion_time': 0.066666667, 'prompt_time': 0.560617483, 'queue_time': -0.6479681820000001, 'total_time': 0.62728415}, 'model_name': 'llama3-8b-8192', 'system_fingerprint': 'fp_a97cfe35ae', 'finish_reason': 'tool_calls', 'logprobs': None}, id='run-99e359b3-e3d5-4892-ade4-a52aba2cd4d0-0', tool_calls=[{'name': 'tavily_search_results_json', 'args': {'query': 'weather in Patna'}, 'id': 'call_ma0c', 'type': 'tool_call'}], usage_metadata={'input_tokens': 2051, 'output_tokens': 80, 'total_tokens': 2131})]}\n",
      "()\n",
      "Initial state: StateSnapshot(values={'messages': [HumanMessage(content='What is the weather in Patna?', additional_kwargs={}, response_metadata={}, id='c4223783-0d9e-43dd-84e5-d2f5ef54b853'), AIMessage(content='', additional_kwargs={'tool_calls': [{'id': 'call_ma0c', 'function': {'arguments': '{\"query\":\"weather in Patna\"}', 'name': 'tavily_search_results_json'}, 'type': 'function'}]}, response_metadata={'token_usage': {'completion_tokens': 80, 'prompt_tokens': 2051, 'total_tokens': 2131, 'completion_time': 0.066666667, 'prompt_time': 0.560617483, 'queue_time': -0.6479681820000001, 'total_time': 0.62728415}, 'model_name': 'llama3-8b-8192', 'system_fingerprint': 'fp_a97cfe35ae', 'finish_reason': 'tool_calls', 'logprobs': None}, id='run-99e359b3-e3d5-4892-ade4-a52aba2cd4d0-0', tool_calls=[{'name': 'tavily_search_results_json', 'args': {'query': 'weather in Patna'}, 'id': 'call_ma0c', 'type': 'tool_call'}], usage_metadata={'input_tokens': 2051, 'output_tokens': 80, 'total_tokens': 2131})]}, next=('action',), config={'configurable': {'thread_id': '3', 'checkpoint_ns': '', 'checkpoint_id': '1ef9a092-3bdf-68f3-8001-15c42cec7a35'}}, metadata={'source': 'loop', 'writes': {'llm': {'messages': [AIMessage(content='', additional_kwargs={'tool_calls': [{'id': 'call_ma0c', 'function': {'arguments': '{\"query\":\"weather in Patna\"}', 'name': 'tavily_search_results_json'}, 'type': 'function'}]}, response_metadata={'token_usage': {'completion_tokens': 80, 'prompt_tokens': 2051, 'total_tokens': 2131, 'completion_time': 0.066666667, 'prompt_time': 0.560617483, 'queue_time': -0.6479681820000001, 'total_time': 0.62728415}, 'model_name': 'llama3-8b-8192', 'system_fingerprint': 'fp_a97cfe35ae', 'finish_reason': 'tool_calls', 'logprobs': None}, id='run-99e359b3-e3d5-4892-ade4-a52aba2cd4d0-0', tool_calls=[{'name': 'tavily_search_results_json', 'args': {'query': 'weather in Patna'}, 'id': 'call_ma0c', 'type': 'tool_call'}], usage_metadata={'input_tokens': 2051, 'output_tokens': 80, 'total_tokens': 2131})]}}, 'step': 1, 'parents': {}}, created_at='2024-11-03T17:29:11.681019+00:00', parent_config={'configurable': {'thread_id': '3', 'checkpoint_ns': '', 'checkpoint_id': '1ef9a092-31b5-6934-8000-86fd7d9292c5'}}, tasks=(PregelTask(id='f3091e60-c7a3-fe5d-1d85-b69a91cc4592', name='action', path=('__pregel_pull', 'action'), error=None, interrupts=(), state=None, result=None),))\n",
      "Next action: ('action',)\n",
      "Current tool calls: [{'name': 'tavily_search_results_json', 'args': {'query': 'weather in Patna'}, 'id': 'call_ma0c', 'type': 'tool_call'}]\n",
      "Updating search query to Bengaluru.\n",
      "Updated tool calls: [{'name': 'tavily_search_results_json', 'args': {'query': 'current weather in Bengaluru'}, 'id': 'call_ma0c', 'type': 'tool_call'}]\n",
      "Calling: {'name': 'tavily_search_results_json', 'args': {'query': 'current weather in Bengaluru'}, 'id': 'call_ma0c', 'type': 'tool_call'}\n",
      "Back to the model!\n",
      "{'messages': [ToolMessage(content='[{\\'url\\': \\'https://www.weatherapi.com/\\', \\'content\\': \"{\\'location\\': {\\'name\\': \\'Bengaluru\\', \\'region\\': \\'Karnataka\\', \\'country\\': \\'India\\', \\'lat\\': 12.9833, \\'lon\\': 77.5833, \\'tz_id\\': \\'Asia/Kolkata\\', \\'localtime_epoch\\': 1730654916, \\'localtime\\': \\'2024-11-03 22:58\\'}, \\'current\\': {\\'last_updated_epoch\\': 1730654100, \\'last_updated\\': \\'2024-11-03 22:45\\', \\'temp_c\\': 22.1, \\'temp_f\\': 71.8, \\'is_day\\': 0, \\'condition\\': {\\'text\\': \\'Light drizzle\\', \\'icon\\': \\'//cdn.weatherapi.com/weather/64x64/night/266.png\\', \\'code\\': 1153}, \\'wind_mph\\': 7.8, \\'wind_kph\\': 12.6, \\'wind_degree\\': 93, \\'wind_dir\\': \\'E\\', \\'pressure_mb\\': 1019.0, \\'pressure_in\\': 30.09, \\'precip_mm\\': 0.0, \\'precip_in\\': 0.0, \\'humidity\\': 94, \\'cloud\\': 50, \\'feelslike_c\\': 24.6, \\'feelslike_f\\': 76.2, \\'windchill_c\\': 21.0, \\'windchill_f\\': 69.7, \\'heatindex_c\\': 21.0, \\'heatindex_f\\': 69.7, \\'dewpoint_c\\': 18.4, \\'dewpoint_f\\': 65.2, \\'vis_km\\': 2.0, \\'vis_miles\\': 1.0, \\'uv\\': 0.0, \\'gust_mph\\': 13.0, \\'gust_kph\\': 20.8}}\"}, {\\'url\\': \\'https://mausam.imd.gov.in/bengalurums/\\', \\'content\\': \\'Urban Meteorological Services for Bengaluru India Meteorological Department Ministry of Earth Sciences Government of India. ... 2024. Oct 29, 2024. ... Nov 1, 2024. Interactive Display of weather and Thunderstorm warnings. Current Weather Across Bengaluru. Bengaluru; Bengaluru-City. 24.0 °C; Calm 3.7 km/h; 76 %; Forecast. Bengaluru (HAL) 23.8\\'}]', name='tavily_search_results_json', id='b6ebac9f-8538-41ae-8b6d-18fce3f46ec1', tool_call_id='call_ma0c')]}\n",
      "{'messages': [AIMessage(content='', additional_kwargs={'tool_calls': [{'id': 'call_za40', 'function': {'arguments': '{\"query\":\"current weather in Patna\"}', 'name': 'tavily_search_results_json'}, 'type': 'function'}]}, response_metadata={'token_usage': {'completion_tokens': 46, 'prompt_tokens': 1613, 'total_tokens': 1659, 'completion_time': 0.038333333, 'prompt_time': 0.281217826, 'queue_time': 0.001981012999999976, 'total_time': 0.319551159}, 'model_name': 'llama3-8b-8192', 'system_fingerprint': 'fp_a97cfe35ae', 'finish_reason': 'tool_calls', 'logprobs': None}, id='run-c43202db-d507-412e-bf93-01073ac1e8ca-0', tool_calls=[{'name': 'tavily_search_results_json', 'args': {'query': 'current weather in Patna'}, 'id': 'call_za40', 'type': 'tool_call'}], usage_metadata={'input_tokens': 1613, 'output_tokens': 46, 'total_tokens': 1659})]}\n",
      "()\n",
      "Final state: StateSnapshot(values={'messages': [HumanMessage(content='What is the weather in Patna?', additional_kwargs={}, response_metadata={}, id='c4223783-0d9e-43dd-84e5-d2f5ef54b853'), AIMessage(content='', additional_kwargs={'tool_calls': [{'id': 'call_ma0c', 'function': {'arguments': '{\"query\":\"weather in Patna\"}', 'name': 'tavily_search_results_json'}, 'type': 'function'}]}, response_metadata={'token_usage': {'completion_tokens': 80, 'prompt_tokens': 2051, 'total_tokens': 2131, 'completion_time': 0.066666667, 'prompt_time': 0.560617483, 'queue_time': -0.6479681820000001, 'total_time': 0.62728415}, 'model_name': 'llama3-8b-8192', 'system_fingerprint': 'fp_a97cfe35ae', 'finish_reason': 'tool_calls', 'logprobs': None}, id='run-99e359b3-e3d5-4892-ade4-a52aba2cd4d0-0', tool_calls=[{'name': 'tavily_search_results_json', 'args': {'query': 'current weather in Bengaluru'}, 'id': 'call_ma0c', 'type': 'tool_call'}], usage_metadata={'input_tokens': 2051, 'output_tokens': 80, 'total_tokens': 2131}), ToolMessage(content='[{\\'url\\': \\'https://www.weatherapi.com/\\', \\'content\\': \"{\\'location\\': {\\'name\\': \\'Bengaluru\\', \\'region\\': \\'Karnataka\\', \\'country\\': \\'India\\', \\'lat\\': 12.9833, \\'lon\\': 77.5833, \\'tz_id\\': \\'Asia/Kolkata\\', \\'localtime_epoch\\': 1730654916, \\'localtime\\': \\'2024-11-03 22:58\\'}, \\'current\\': {\\'last_updated_epoch\\': 1730654100, \\'last_updated\\': \\'2024-11-03 22:45\\', \\'temp_c\\': 22.1, \\'temp_f\\': 71.8, \\'is_day\\': 0, \\'condition\\': {\\'text\\': \\'Light drizzle\\', \\'icon\\': \\'//cdn.weatherapi.com/weather/64x64/night/266.png\\', \\'code\\': 1153}, \\'wind_mph\\': 7.8, \\'wind_kph\\': 12.6, \\'wind_degree\\': 93, \\'wind_dir\\': \\'E\\', \\'pressure_mb\\': 1019.0, \\'pressure_in\\': 30.09, \\'precip_mm\\': 0.0, \\'precip_in\\': 0.0, \\'humidity\\': 94, \\'cloud\\': 50, \\'feelslike_c\\': 24.6, \\'feelslike_f\\': 76.2, \\'windchill_c\\': 21.0, \\'windchill_f\\': 69.7, \\'heatindex_c\\': 21.0, \\'heatindex_f\\': 69.7, \\'dewpoint_c\\': 18.4, \\'dewpoint_f\\': 65.2, \\'vis_km\\': 2.0, \\'vis_miles\\': 1.0, \\'uv\\': 0.0, \\'gust_mph\\': 13.0, \\'gust_kph\\': 20.8}}\"}, {\\'url\\': \\'https://mausam.imd.gov.in/bengalurums/\\', \\'content\\': \\'Urban Meteorological Services for Bengaluru India Meteorological Department Ministry of Earth Sciences Government of India. ... 2024. Oct 29, 2024. ... Nov 1, 2024. Interactive Display of weather and Thunderstorm warnings. Current Weather Across Bengaluru. Bengaluru; Bengaluru-City. 24.0 °C; Calm 3.7 km/h; 76 %; Forecast. Bengaluru (HAL) 23.8\\'}]', name='tavily_search_results_json', id='b6ebac9f-8538-41ae-8b6d-18fce3f46ec1', tool_call_id='call_ma0c'), AIMessage(content='', additional_kwargs={'tool_calls': [{'id': 'call_za40', 'function': {'arguments': '{\"query\":\"current weather in Patna\"}', 'name': 'tavily_search_results_json'}, 'type': 'function'}]}, response_metadata={'token_usage': {'completion_tokens': 46, 'prompt_tokens': 1613, 'total_tokens': 1659, 'completion_time': 0.038333333, 'prompt_time': 0.281217826, 'queue_time': 0.001981012999999976, 'total_time': 0.319551159}, 'model_name': 'llama3-8b-8192', 'system_fingerprint': 'fp_a97cfe35ae', 'finish_reason': 'tool_calls', 'logprobs': None}, id='run-c43202db-d507-412e-bf93-01073ac1e8ca-0', tool_calls=[{'name': 'tavily_search_results_json', 'args': {'query': 'current weather in Patna'}, 'id': 'call_za40', 'type': 'tool_call'}], usage_metadata={'input_tokens': 1613, 'output_tokens': 46, 'total_tokens': 1659})]}, next=('action',), config={'configurable': {'thread_id': '3', 'checkpoint_ns': '', 'checkpoint_id': '1ef9a092-716a-6523-8004-1d105d6755e5'}}, metadata={'source': 'loop', 'writes': {'llm': {'messages': [AIMessage(content='', additional_kwargs={'tool_calls': [{'id': 'call_za40', 'function': {'arguments': '{\"query\":\"current weather in Patna\"}', 'name': 'tavily_search_results_json'}, 'type': 'function'}]}, response_metadata={'token_usage': {'completion_tokens': 46, 'prompt_tokens': 1613, 'total_tokens': 1659, 'completion_time': 0.038333333, 'prompt_time': 0.281217826, 'queue_time': 0.001981012999999976, 'total_time': 0.319551159}, 'model_name': 'llama3-8b-8192', 'system_fingerprint': 'fp_a97cfe35ae', 'finish_reason': 'tool_calls', 'logprobs': None}, id='run-c43202db-d507-412e-bf93-01073ac1e8ca-0', tool_calls=[{'name': 'tavily_search_results_json', 'args': {'query': 'current weather in Patna'}, 'id': 'call_za40', 'type': 'tool_call'}], usage_metadata={'input_tokens': 1613, 'output_tokens': 46, 'total_tokens': 1659})]}}, 'step': 4, 'parents': {}}, created_at='2024-11-03T17:29:17.295313+00:00', parent_config={'configurable': {'thread_id': '3', 'checkpoint_ns': '', 'checkpoint_id': '1ef9a092-65f5-631d-8003-62e2b2561fb8'}}, tasks=(PregelTask(id='3fc457d9-c6dc-1d83-3636-0134aeb0c0bf', name='action', path=('__pregel_pull', 'action'), error=None, interrupts=(), state=None, result=None),))\n",
      "Next action: ('action',)\n",
      "Calling: {'name': 'tavily_search_results_json', 'args': {'query': 'current weather in Patna'}, 'id': 'call_za40', 'type': 'tool_call'}\n",
      "Back to the model!\n",
      "{'messages': [ToolMessage(content='[{\\'url\\': \\'https://www.weatherapi.com/\\', \\'content\\': \"{\\'location\\': {\\'name\\': \\'Patna\\', \\'region\\': \\'Bihar\\', \\'country\\': \\'India\\', \\'lat\\': 25.6, \\'lon\\': 85.1167, \\'tz_id\\': \\'Asia/Kolkata\\', \\'localtime_epoch\\': 1730654958, \\'localtime\\': \\'2024-11-03 22:59\\'}, \\'current\\': {\\'last_updated_epoch\\': 1730654100, \\'last_updated\\': \\'2024-11-03 22:45\\', \\'temp_c\\': 26.1, \\'temp_f\\': 79.0, \\'is_day\\': 0, \\'condition\\': {\\'text\\': \\'Mist\\', \\'icon\\': \\'//cdn.weatherapi.com/weather/64x64/night/143.png\\', \\'code\\': 1030}, \\'wind_mph\\': 4.7, \\'wind_kph\\': 7.6, \\'wind_degree\\': 236, \\'wind_dir\\': \\'WSW\\', \\'pressure_mb\\': 1013.0, \\'pressure_in\\': 29.91, \\'precip_mm\\': 0.0, \\'precip_in\\': 0.0, \\'humidity\\': 100, \\'cloud\\': 0, \\'feelslike_c\\': 26.5, \\'feelslike_f\\': 79.6, \\'windchill_c\\': 24.6, \\'windchill_f\\': 76.2, \\'heatindex_c\\': 25.4, \\'heatindex_f\\': 77.6, \\'dewpoint_c\\': 12.0, \\'dewpoint_f\\': 53.5, \\'vis_km\\': 1.6, \\'vis_miles\\': 0.0, \\'uv\\': 0.0, \\'gust_mph\\': 9.9, \\'gust_kph\\': 15.9}}\"}, {\\'url\\': \\'https://mausam.imd.gov.in/patna/\\', \\'content\\': \\'Current Weather Patna . 25 o C. 100%. Calm 0 km/h; Observation Time: 03 Nov, 6.30 IST . Sunrise: 05:59 (IST) Sunset: 17:7 (IST) Moonrise : 07:28 (IST) Moonset: 18:8 (IST) Patna Radar Animation. Our Services. Weather Reports ... Current Weather across Major Cities. Bhagalpur.\\'}]', name='tavily_search_results_json', id='7314a8c0-1bc1-499f-aaf7-00b94e6ef1ee', tool_call_id='call_za40')]}\n",
      "{'messages': [AIMessage(content='The current weather in Patna is 26.1°C, with a misty condition and a wind speed of 4.7 mph.', additional_kwargs={}, response_metadata={'token_usage': {'completion_tokens': 30, 'prompt_tokens': 2201, 'total_tokens': 2231, 'completion_time': 0.025, 'prompt_time': 0.257179804, 'queue_time': 0.0008229040000000132, 'total_time': 0.282179804}, 'model_name': 'llama3-8b-8192', 'system_fingerprint': 'fp_6a6771ae9c', 'finish_reason': 'stop', 'logprobs': None}, id='run-9b90ff86-c79e-401a-bc14-54977d3aa7d4-0', usage_metadata={'input_tokens': 2201, 'output_tokens': 30, 'total_tokens': 2231})]}\n",
      "Final state: StateSnapshot(values={'messages': [HumanMessage(content='What is the weather in Patna?', additional_kwargs={}, response_metadata={}, id='c4223783-0d9e-43dd-84e5-d2f5ef54b853'), AIMessage(content='', additional_kwargs={'tool_calls': [{'id': 'call_ma0c', 'function': {'arguments': '{\"query\":\"weather in Patna\"}', 'name': 'tavily_search_results_json'}, 'type': 'function'}]}, response_metadata={'token_usage': {'completion_tokens': 80, 'prompt_tokens': 2051, 'total_tokens': 2131, 'completion_time': 0.066666667, 'prompt_time': 0.560617483, 'queue_time': -0.6479681820000001, 'total_time': 0.62728415}, 'model_name': 'llama3-8b-8192', 'system_fingerprint': 'fp_a97cfe35ae', 'finish_reason': 'tool_calls', 'logprobs': None}, id='run-99e359b3-e3d5-4892-ade4-a52aba2cd4d0-0', tool_calls=[{'name': 'tavily_search_results_json', 'args': {'query': 'current weather in Bengaluru'}, 'id': 'call_ma0c', 'type': 'tool_call'}], usage_metadata={'input_tokens': 2051, 'output_tokens': 80, 'total_tokens': 2131}), ToolMessage(content='[{\\'url\\': \\'https://www.weatherapi.com/\\', \\'content\\': \"{\\'location\\': {\\'name\\': \\'Bengaluru\\', \\'region\\': \\'Karnataka\\', \\'country\\': \\'India\\', \\'lat\\': 12.9833, \\'lon\\': 77.5833, \\'tz_id\\': \\'Asia/Kolkata\\', \\'localtime_epoch\\': 1730654916, \\'localtime\\': \\'2024-11-03 22:58\\'}, \\'current\\': {\\'last_updated_epoch\\': 1730654100, \\'last_updated\\': \\'2024-11-03 22:45\\', \\'temp_c\\': 22.1, \\'temp_f\\': 71.8, \\'is_day\\': 0, \\'condition\\': {\\'text\\': \\'Light drizzle\\', \\'icon\\': \\'//cdn.weatherapi.com/weather/64x64/night/266.png\\', \\'code\\': 1153}, \\'wind_mph\\': 7.8, \\'wind_kph\\': 12.6, \\'wind_degree\\': 93, \\'wind_dir\\': \\'E\\', \\'pressure_mb\\': 1019.0, \\'pressure_in\\': 30.09, \\'precip_mm\\': 0.0, \\'precip_in\\': 0.0, \\'humidity\\': 94, \\'cloud\\': 50, \\'feelslike_c\\': 24.6, \\'feelslike_f\\': 76.2, \\'windchill_c\\': 21.0, \\'windchill_f\\': 69.7, \\'heatindex_c\\': 21.0, \\'heatindex_f\\': 69.7, \\'dewpoint_c\\': 18.4, \\'dewpoint_f\\': 65.2, \\'vis_km\\': 2.0, \\'vis_miles\\': 1.0, \\'uv\\': 0.0, \\'gust_mph\\': 13.0, \\'gust_kph\\': 20.8}}\"}, {\\'url\\': \\'https://mausam.imd.gov.in/bengalurums/\\', \\'content\\': \\'Urban Meteorological Services for Bengaluru India Meteorological Department Ministry of Earth Sciences Government of India. ... 2024. Oct 29, 2024. ... Nov 1, 2024. Interactive Display of weather and Thunderstorm warnings. Current Weather Across Bengaluru. Bengaluru; Bengaluru-City. 24.0 °C; Calm 3.7 km/h; 76 %; Forecast. Bengaluru (HAL) 23.8\\'}]', name='tavily_search_results_json', id='b6ebac9f-8538-41ae-8b6d-18fce3f46ec1', tool_call_id='call_ma0c'), AIMessage(content='', additional_kwargs={'tool_calls': [{'id': 'call_za40', 'function': {'arguments': '{\"query\":\"current weather in Patna\"}', 'name': 'tavily_search_results_json'}, 'type': 'function'}]}, response_metadata={'token_usage': {'completion_tokens': 46, 'prompt_tokens': 1613, 'total_tokens': 1659, 'completion_time': 0.038333333, 'prompt_time': 0.281217826, 'queue_time': 0.001981012999999976, 'total_time': 0.319551159}, 'model_name': 'llama3-8b-8192', 'system_fingerprint': 'fp_a97cfe35ae', 'finish_reason': 'tool_calls', 'logprobs': None}, id='run-c43202db-d507-412e-bf93-01073ac1e8ca-0', tool_calls=[{'name': 'tavily_search_results_json', 'args': {'query': 'current weather in Patna'}, 'id': 'call_za40', 'type': 'tool_call'}], usage_metadata={'input_tokens': 1613, 'output_tokens': 46, 'total_tokens': 1659}), ToolMessage(content='[{\\'url\\': \\'https://www.weatherapi.com/\\', \\'content\\': \"{\\'location\\': {\\'name\\': \\'Patna\\', \\'region\\': \\'Bihar\\', \\'country\\': \\'India\\', \\'lat\\': 25.6, \\'lon\\': 85.1167, \\'tz_id\\': \\'Asia/Kolkata\\', \\'localtime_epoch\\': 1730654958, \\'localtime\\': \\'2024-11-03 22:59\\'}, \\'current\\': {\\'last_updated_epoch\\': 1730654100, \\'last_updated\\': \\'2024-11-03 22:45\\', \\'temp_c\\': 26.1, \\'temp_f\\': 79.0, \\'is_day\\': 0, \\'condition\\': {\\'text\\': \\'Mist\\', \\'icon\\': \\'//cdn.weatherapi.com/weather/64x64/night/143.png\\', \\'code\\': 1030}, \\'wind_mph\\': 4.7, \\'wind_kph\\': 7.6, \\'wind_degree\\': 236, \\'wind_dir\\': \\'WSW\\', \\'pressure_mb\\': 1013.0, \\'pressure_in\\': 29.91, \\'precip_mm\\': 0.0, \\'precip_in\\': 0.0, \\'humidity\\': 100, \\'cloud\\': 0, \\'feelslike_c\\': 26.5, \\'feelslike_f\\': 79.6, \\'windchill_c\\': 24.6, \\'windchill_f\\': 76.2, \\'heatindex_c\\': 25.4, \\'heatindex_f\\': 77.6, \\'dewpoint_c\\': 12.0, \\'dewpoint_f\\': 53.5, \\'vis_km\\': 1.6, \\'vis_miles\\': 0.0, \\'uv\\': 0.0, \\'gust_mph\\': 9.9, \\'gust_kph\\': 15.9}}\"}, {\\'url\\': \\'https://mausam.imd.gov.in/patna/\\', \\'content\\': \\'Current Weather Patna . 25 o C. 100%. Calm 0 km/h; Observation Time: 03 Nov, 6.30 IST . Sunrise: 05:59 (IST) Sunset: 17:7 (IST) Moonrise : 07:28 (IST) Moonset: 18:8 (IST) Patna Radar Animation. Our Services. Weather Reports ... Current Weather across Major Cities. Bhagalpur.\\'}]', name='tavily_search_results_json', id='7314a8c0-1bc1-499f-aaf7-00b94e6ef1ee', tool_call_id='call_za40'), AIMessage(content='The current weather in Patna is 26.1°C, with a misty condition and a wind speed of 4.7 mph.', additional_kwargs={}, response_metadata={'token_usage': {'completion_tokens': 30, 'prompt_tokens': 2201, 'total_tokens': 2231, 'completion_time': 0.025, 'prompt_time': 0.257179804, 'queue_time': 0.0008229040000000132, 'total_time': 0.282179804}, 'model_name': 'llama3-8b-8192', 'system_fingerprint': 'fp_6a6771ae9c', 'finish_reason': 'stop', 'logprobs': None}, id='run-9b90ff86-c79e-401a-bc14-54977d3aa7d4-0', usage_metadata={'input_tokens': 2201, 'output_tokens': 30, 'total_tokens': 2231})]}, next=(), config={'configurable': {'thread_id': '3', 'checkpoint_ns': '', 'checkpoint_id': '1ef9a092-9ee5-6705-8006-8157e2546dd7'}}, metadata={'source': 'loop', 'writes': {'llm': {'messages': [AIMessage(content='The current weather in Patna is 26.1°C, with a misty condition and a wind speed of 4.7 mph.', additional_kwargs={}, response_metadata={'token_usage': {'completion_tokens': 30, 'prompt_tokens': 2201, 'total_tokens': 2231, 'completion_time': 0.025, 'prompt_time': 0.257179804, 'queue_time': 0.0008229040000000132, 'total_time': 0.282179804}, 'model_name': 'llama3-8b-8192', 'system_fingerprint': 'fp_6a6771ae9c', 'finish_reason': 'stop', 'logprobs': None}, id='run-9b90ff86-c79e-401a-bc14-54977d3aa7d4-0', usage_metadata={'input_tokens': 2201, 'output_tokens': 30, 'total_tokens': 2231})]}}, 'step': 6, 'parents': {}}, created_at='2024-11-03T17:29:22.064321+00:00', parent_config={'configurable': {'thread_id': '3', 'checkpoint_ns': '', 'checkpoint_id': '1ef9a092-99a5-6f5b-8005-717754b1c165'}}, tasks=())\n",
      "Next action: ()\n"
     ]
    }
   ],
   "source": [
    "with SqliteSaver.from_conn_string(\":memory:\") as memory:\n",
    "    abot = Agent(model, [tool], system=prompt, checkpointer=memory)\n",
    "    messages = [HumanMessage(content='What is the weather in Patna?')]\n",
    "    thread = {\"configurable\": {\"thread_id\": \"3\"}}\n",
    "    \n",
    "    # Start initial processing\n",
    "    for event in abot.graph.stream({\"messages\": messages}, thread):\n",
    "        for v in event.values():\n",
    "            print(v)\n",
    "    \n",
    "    # Display the current state and the next action\n",
    "    print(\"Initial state:\", abot.graph.get_state(thread))\n",
    "    print(\"Next action:\", abot.graph.get_state(thread).next)\n",
    "    \n",
    "    # Access and print the current tool calls for verification\n",
    "    current_values = abot.graph.get_state(thread)\n",
    "    print(\"Current tool calls:\", current_values.values['messages'][-1].tool_calls)\n",
    "    \n",
    "    # Update tool calls to modify the query\n",
    "    print(\"Updating search query to Bengaluru.\")\n",
    "    existing_tool_call = current_values.values['messages'][-1].tool_calls[0]\n",
    "    existing_tool_call['args']['query'] = 'current weather in Bengaluru'\n",
    "    \n",
    "    # Apply the update to the graph’s state\n",
    "    abot.graph.update_state(thread, current_values.values)\n",
    "    \n",
    "    # Confirm the updated tool call\n",
    "    updated_values = abot.graph.get_state(thread)\n",
    "    print(\"Updated tool calls:\", updated_values.values['messages'][-1].tool_calls)\n",
    "    \n",
    "    # Continue processing from the modified state\n",
    "    for event in abot.graph.stream(None, thread):\n",
    "        for v in event.values():\n",
    "            print(v)\n",
    "\n",
    "    # Print the final state after all processing\n",
    "    print(\"Final state:\", abot.graph.get_state(thread))\n",
    "    print(\"Next action:\", abot.graph.get_state(thread).next)\n",
    "    \n",
    "        # Continue processing from the modified state\n",
    "    for event in abot.graph.stream(None, thread):\n",
    "        for v in event.values():\n",
    "            print(v)\n",
    "\n",
    "    # Print the final state after all processing\n",
    "    print(\"Final state:\", abot.graph.get_state(thread))\n",
    "    print(\"Next action:\", abot.graph.get_state(thread).next)"
   ]
  },
  {
   "cell_type": "code",
   "execution_count": null,
   "metadata": {},
   "outputs": [],
   "source": []
  }
 ],
 "metadata": {
  "kernelspec": {
   "display_name": "Python 3",
   "language": "python",
   "name": "python3"
  },
  "language_info": {
   "codemirror_mode": {
    "name": "ipython",
    "version": 3
   },
   "file_extension": ".py",
   "mimetype": "text/x-python",
   "name": "python",
   "nbconvert_exporter": "python",
   "pygments_lexer": "ipython3",
   "version": "3.13.0"
  }
 },
 "nbformat": 4,
 "nbformat_minor": 2
}
