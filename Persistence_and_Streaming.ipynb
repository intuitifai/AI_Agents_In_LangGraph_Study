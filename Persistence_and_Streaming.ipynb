{
 "cells": [
  {
   "cell_type": "code",
   "execution_count": 1,
   "metadata": {},
   "outputs": [],
   "source": [
    "with open(\"./api_key.txt\", \"r\") as f:\n",
    "    api_key = f.readline()\n",
    "    \n",
    "with open(\"./tavily_key.txt\", \"r\") as f:\n",
    "    tavily_key = f.readline()"
   ]
  },
  {
   "cell_type": "code",
   "execution_count": 7,
   "metadata": {},
   "outputs": [],
   "source": [
    "from langgraph.graph import StateGraph, END\n",
    "from typing import TypedDict, Annotated\n",
    "import operator\n",
    "from langchain_core.messages import AnyMessage, SystemMessage, HumanMessage, ToolMessage\n",
    "from langchain_groq import ChatGroq\n",
    "from langchain_community.tools.tavily_search import TavilySearchResults\n",
    "from langchain.utilities.tavily_search import TavilySearchAPIWrapper\n",
    "from langgraph.checkpoint.sqlite import SqliteSaver"
   ]
  },
  {
   "cell_type": "code",
   "execution_count": 3,
   "metadata": {},
   "outputs": [],
   "source": [
    "import os\n",
    "\n",
    "os.environ[\"TAVILY_API_KEY\"] = tavily_key"
   ]
  },
  {
   "cell_type": "code",
   "execution_count": 4,
   "metadata": {},
   "outputs": [
    {
     "name": "stdout",
     "output_type": "stream",
     "text": [
      "<class 'langchain_community.tools.tavily_search.tool.TavilySearchResults'>\n",
      "tavily_search_results_json\n"
     ]
    }
   ],
   "source": [
    "tool = TavilySearchResults(max_results=2)\n",
    "print(type(tool))\n",
    "print(tool.name)"
   ]
  },
  {
   "cell_type": "code",
   "execution_count": 5,
   "metadata": {},
   "outputs": [],
   "source": [
    "class AgentState(TypedDict):\n",
    "    messages: Annotated[list[AnyMessage], operator.add]"
   ]
  },
  {
   "cell_type": "code",
   "execution_count": 14,
   "metadata": {},
   "outputs": [],
   "source": [
    "class Agent:\n",
    "\n",
    "    def __init__(self, model, tools, checkpointer, system=\"\"):\n",
    "        self.system = system\n",
    "        graph = StateGraph(AgentState)\n",
    "        graph.add_node(\"llm\", self.call_chatgroq)\n",
    "        graph.add_node(\"action\", self.take_action)\n",
    "        graph.add_conditional_edges(\n",
    "            \"llm\",\n",
    "            self.exists_action,\n",
    "            {True: \"action\", False: END}\n",
    "        )\n",
    "        graph.add_edge(\"action\", \"llm\")\n",
    "        graph.set_entry_point(\"llm\")\n",
    "        self.graph = graph.compile(checkpointer=checkpointer)\n",
    "        self.tools = {t.name: t for t in tools}\n",
    "        self.model = model.bind_tools(tools)\n",
    "\n",
    "    def exists_action(self, state: AgentState):\n",
    "        result = state['messages'][-1]\n",
    "        return len(result.tool_calls) > 0\n",
    "\n",
    "    def call_chatgroq(self, state: AgentState):\n",
    "        messages = state['messages']\n",
    "        if self.system:\n",
    "            messages = [SystemMessage(content=self.system)] + messages\n",
    "        message = self.model.invoke(messages)\n",
    "        return {'messages': [message]}\n",
    "\n",
    "    def take_action(self, state: AgentState):\n",
    "        tool_calls = state['messages'][-1].tool_calls\n",
    "        results = []\n",
    "        for t in tool_calls:\n",
    "            print(f\"Calling: {t}\")\n",
    "            if not t['name'] in self.tools:      # check for bad tool name from LLM\n",
    "                print(\"\\n ....bad tool name....\")\n",
    "                result = \"bad tool name, retry\"  # instruct LLM to retry if bad\n",
    "            else:\n",
    "                result = self.tools[t['name']].invoke(t['args'])\n",
    "            results.append(ToolMessage(tool_call_id=t['id'], name=t['name'], content=str(result)))\n",
    "        print(\"Back to the model!\")\n",
    "        return {'messages': results}"
   ]
  },
  {
   "cell_type": "code",
   "execution_count": 15,
   "metadata": {},
   "outputs": [],
   "source": [
    "prompt = \"\"\"You are a smart research assistant. Use the search engine to look up information. \\\n",
    "You are allowed to make multiple calls (either together or in sequence). \\\n",
    "Only look up information when you are sure of what you want. \\\n",
    "If you need to look up some information before asking a follow up question, you are allowed to do that!\n",
    "\"\"\"\n",
    "\n",
    "model = ChatGroq(\n",
    "    model=\"llama3-8b-8192\",  # Ensure this model ID is correct\n",
    "    temperature=0.7,\n",
    "    api_key=api_key\n",
    ")\n",
    "abot = Agent(model, [tool], system=prompt, checkpointer=memory)"
   ]
  },
  {
   "cell_type": "code",
   "execution_count": 16,
   "metadata": {},
   "outputs": [],
   "source": [
    "messages = [HumanMessage(content='What is the weather in Bangalore?')]"
   ]
  },
  {
   "cell_type": "code",
   "execution_count": 17,
   "metadata": {},
   "outputs": [],
   "source": [
    "thread = {\"configurable\": {\"thread_id\": \"1\"}}"
   ]
  },
  {
   "cell_type": "code",
   "execution_count": 24,
   "metadata": {},
   "outputs": [
    {
     "name": "stdout",
     "output_type": "stream",
     "text": [
      "[AIMessage(content='', additional_kwargs={'tool_calls': [{'id': 'call_7r8m', 'function': {'arguments': '{\"query\":\"weather in Patna\"}', 'name': 'tavily_search_results_json'}, 'type': 'function'}]}, response_metadata={'token_usage': {'completion_tokens': 73, 'prompt_tokens': 2051, 'total_tokens': 2124, 'completion_time': 0.060833333, 'prompt_time': 0.552128645, 'queue_time': -0.640774873, 'total_time': 0.612961978}, 'model_name': 'llama3-8b-8192', 'system_fingerprint': 'fp_6a6771ae9c', 'finish_reason': 'tool_calls', 'logprobs': None}, id='run-9b0252b9-1baa-4698-a6a9-7a4460684df0-0', tool_calls=[{'name': 'tavily_search_results_json', 'args': {'query': 'weather in Patna'}, 'id': 'call_7r8m', 'type': 'tool_call'}], usage_metadata={'input_tokens': 2051, 'output_tokens': 73, 'total_tokens': 2124})]\n",
      "Calling: {'name': 'tavily_search_results_json', 'args': {'query': 'weather in Patna'}, 'id': 'call_7r8m', 'type': 'tool_call'}\n",
      "Back to the model!\n",
      "[ToolMessage(content='[{\\'url\\': \\'https://www.weatherapi.com/\\', \\'content\\': \"{\\'location\\': {\\'name\\': \\'Patna\\', \\'region\\': \\'Bihar\\', \\'country\\': \\'India\\', \\'lat\\': 25.6, \\'lon\\': 85.1167, \\'tz_id\\': \\'Asia/Kolkata\\', \\'localtime_epoch\\': 1730651931, \\'localtime\\': \\'2024-11-03 22:08\\'}, \\'current\\': {\\'last_updated_epoch\\': 1730651400, \\'last_updated\\': \\'2024-11-03 22:00\\', \\'temp_c\\': 24.6, \\'temp_f\\': 76.2, \\'is_day\\': 0, \\'condition\\': {\\'text\\': \\'Clear\\', \\'icon\\': \\'//cdn.weatherapi.com/weather/64x64/night/113.png\\', \\'code\\': 1000}, \\'wind_mph\\': 4.7, \\'wind_kph\\': 7.6, \\'wind_degree\\': 236, \\'wind_dir\\': \\'WSW\\', \\'pressure_mb\\': 1013.0, \\'pressure_in\\': 29.9, \\'precip_mm\\': 0.0, \\'precip_in\\': 0.0, \\'humidity\\': 45, \\'cloud\\': 13, \\'feelslike_c\\': 25.4, \\'feelslike_f\\': 77.6, \\'windchill_c\\': 24.6, \\'windchill_f\\': 76.2, \\'heatindex_c\\': 25.4, \\'heatindex_f\\': 77.6, \\'dewpoint_c\\': 12.0, \\'dewpoint_f\\': 53.5, \\'vis_km\\': 10.0, \\'vis_miles\\': 6.0, \\'uv\\': 0.0, \\'gust_mph\\': 9.9, \\'gust_kph\\': 15.9}}\"}, {\\'url\\': \\'https://weatherspark.com/h/m/111069/2024/3/Historical-Weather-in-March-2024-in-Patna-India\\', \\'content\\': \\'Patna Temperature History March 2024. The daily range of reported temperatures (gray bars) and 24-hour highs (red ticks) and lows (blue ticks), placed over the daily average high (faint red line) and low (faint blue line) temperature, with 25th to 75th and 10th to 90th percentile bands.\\'}]', name='tavily_search_results_json', tool_call_id='call_7r8m')]\n",
      "[AIMessage(content='', additional_kwargs={'tool_calls': [{'id': 'call_g2be', 'function': {'arguments': '{\"query\":\"patna weather\"}', 'name': 'tavily_search_results_json'}, 'type': 'function'}]}, response_metadata={'token_usage': {'completion_tokens': 39, 'prompt_tokens': 1608, 'total_tokens': 1647, 'completion_time': 0.0325, 'prompt_time': 0.283246275, 'queue_time': -0.012945527999999984, 'total_time': 0.315746275}, 'model_name': 'llama3-8b-8192', 'system_fingerprint': 'fp_6a6771ae9c', 'finish_reason': 'tool_calls', 'logprobs': None}, id='run-c2180115-658c-4256-9107-fe81d3216c13-0', tool_calls=[{'name': 'tavily_search_results_json', 'args': {'query': 'patna weather'}, 'id': 'call_g2be', 'type': 'tool_call'}], usage_metadata={'input_tokens': 1608, 'output_tokens': 39, 'total_tokens': 1647})]\n",
      "Calling: {'name': 'tavily_search_results_json', 'args': {'query': 'patna weather'}, 'id': 'call_g2be', 'type': 'tool_call'}\n",
      "Back to the model!\n",
      "[ToolMessage(content='[{\\'url\\': \\'https://www.weatherapi.com/\\', \\'content\\': \"{\\'location\\': {\\'name\\': \\'Patna\\', \\'region\\': \\'Bihar\\', \\'country\\': \\'India\\', \\'lat\\': 25.6, \\'lon\\': 85.1167, \\'tz_id\\': \\'Asia/Kolkata\\', \\'localtime_epoch\\': 1730652070, \\'localtime\\': \\'2024-11-03 22:11\\'}, \\'current\\': {\\'last_updated_epoch\\': 1730651400, \\'last_updated\\': \\'2024-11-03 22:00\\', \\'temp_c\\': 24.6, \\'temp_f\\': 76.2, \\'is_day\\': 0, \\'condition\\': {\\'text\\': \\'Clear\\', \\'icon\\': \\'//cdn.weatherapi.com/weather/64x64/night/113.png\\', \\'code\\': 1000}, \\'wind_mph\\': 4.7, \\'wind_kph\\': 7.6, \\'wind_degree\\': 236, \\'wind_dir\\': \\'WSW\\', \\'pressure_mb\\': 1013.0, \\'pressure_in\\': 29.9, \\'precip_mm\\': 0.0, \\'precip_in\\': 0.0, \\'humidity\\': 45, \\'cloud\\': 13, \\'feelslike_c\\': 25.4, \\'feelslike_f\\': 77.6, \\'windchill_c\\': 24.6, \\'windchill_f\\': 76.2, \\'heatindex_c\\': 25.4, \\'heatindex_f\\': 77.6, \\'dewpoint_c\\': 12.0, \\'dewpoint_f\\': 53.5, \\'vis_km\\': 10.0, \\'vis_miles\\': 6.0, \\'uv\\': 0.0, \\'gust_mph\\': 9.9, \\'gust_kph\\': 15.9}}\"}, {\\'url\\': \\'https://m.weatheravenue.com/en/asia/in/bihar/patna-weather-15-days.html\\', \\'content\\': \\'☁ Patna Bihar India 15 Day Weather Forecast. Today Patna Bihar India: Partly Cloudy with a temperature of 25°C and a wind East speed of 14 Km/h. ... Overcast 23°C 73°F 11 Km/h 7 mph Afternoon . Patchy rain nearby 28°C 83°F 10 Km/h 6 mph Evening . Partly Cloudy 27°C 80°F 8 Km/h 5 mph. Monday 28 October 2024. ... Sunday 03 November 2024\\'}]', name='tavily_search_results_json', tool_call_id='call_g2be')]\n",
      "[AIMessage(content='The current weather in Patna is Clear with a temperature of 24.6°C (76.2°F) and a wind speed of 4.7 mph (7.6 kph) from the West-Southwest. The humidity is 45% and the visibility is 10 km (6.2 miles). The feels-like temperature is 25.4°C (77.6°F).', additional_kwargs={}, response_metadata={'token_usage': {'completion_tokens': 83, 'prompt_tokens': 2224, 'total_tokens': 2307, 'completion_time': 0.072444143, 'prompt_time': 0.128542407, 'queue_time': 0.0018714009999999948, 'total_time': 0.20098655}, 'model_name': 'llama3-8b-8192', 'system_fingerprint': 'fp_179b0f92c9', 'finish_reason': 'stop', 'logprobs': None}, id='run-7da5bcee-d9ac-49a1-920b-01f89901b7a6-0', usage_metadata={'input_tokens': 2224, 'output_tokens': 83, 'total_tokens': 2307})]\n"
     ]
    }
   ],
   "source": [
    "from langgraph.checkpoint.sqlite import SqliteSaver\n",
    "\n",
    "with SqliteSaver.from_conn_string(\":memory:\") as memory:\n",
    "    abot = Agent(model, [tool], system=prompt, checkpointer=memory)\n",
    "    messages = [HumanMessage(content='What is the weather in Patna?')]\n",
    "    thread = {\"configurable\": {\"thread_id\": \"1\"}}\n",
    "    for event in abot.graph.stream({\"messages\": messages}, thread):\n",
    "        for v in event.values():\n",
    "            print(v['messages'])"
   ]
  },
  {
   "cell_type": "markdown",
   "metadata": {},
   "source": [
    "With same thread id, we are able to provide context to the model"
   ]
  },
  {
   "cell_type": "code",
   "execution_count": 23,
   "metadata": {},
   "outputs": [
    {
     "name": "stdout",
     "output_type": "stream",
     "text": [
      "[AIMessage(content='', additional_kwargs={'tool_calls': [{'id': 'call_mfw5', 'function': {'arguments': '{\"query\":\"weather in Patna\"}', 'name': 'tavily_search_results_json'}, 'type': 'function'}]}, response_metadata={'token_usage': {'completion_tokens': 73, 'prompt_tokens': 2051, 'total_tokens': 2124, 'completion_time': 0.060833333, 'prompt_time': 0.298645829, 'queue_time': -0.38761834799999995, 'total_time': 0.359479162}, 'model_name': 'llama3-8b-8192', 'system_fingerprint': 'fp_6a6771ae9c', 'finish_reason': 'tool_calls', 'logprobs': None}, id='run-32a305ac-f476-4d79-b601-1790ecf0a93b-0', tool_calls=[{'name': 'tavily_search_results_json', 'args': {'query': 'weather in Patna'}, 'id': 'call_mfw5', 'type': 'tool_call'}], usage_metadata={'input_tokens': 2051, 'output_tokens': 73, 'total_tokens': 2124})]\n",
      "Calling: {'name': 'tavily_search_results_json', 'args': {'query': 'weather in Patna'}, 'id': 'call_mfw5', 'type': 'tool_call'}\n",
      "Back to the model!\n",
      "[ToolMessage(content='[{\\'url\\': \\'https://www.weatherapi.com/\\', \\'content\\': \"{\\'location\\': {\\'name\\': \\'Patna\\', \\'region\\': \\'Bihar\\', \\'country\\': \\'India\\', \\'lat\\': 25.6, \\'lon\\': 85.1167, \\'tz_id\\': \\'Asia/Kolkata\\', \\'localtime_epoch\\': 1730651931, \\'localtime\\': \\'2024-11-03 22:08\\'}, \\'current\\': {\\'last_updated_epoch\\': 1730651400, \\'last_updated\\': \\'2024-11-03 22:00\\', \\'temp_c\\': 24.6, \\'temp_f\\': 76.2, \\'is_day\\': 0, \\'condition\\': {\\'text\\': \\'Clear\\', \\'icon\\': \\'//cdn.weatherapi.com/weather/64x64/night/113.png\\', \\'code\\': 1000}, \\'wind_mph\\': 4.7, \\'wind_kph\\': 7.6, \\'wind_degree\\': 236, \\'wind_dir\\': \\'WSW\\', \\'pressure_mb\\': 1013.0, \\'pressure_in\\': 29.9, \\'precip_mm\\': 0.0, \\'precip_in\\': 0.0, \\'humidity\\': 45, \\'cloud\\': 13, \\'feelslike_c\\': 25.4, \\'feelslike_f\\': 77.6, \\'windchill_c\\': 24.6, \\'windchill_f\\': 76.2, \\'heatindex_c\\': 25.4, \\'heatindex_f\\': 77.6, \\'dewpoint_c\\': 12.0, \\'dewpoint_f\\': 53.5, \\'vis_km\\': 10.0, \\'vis_miles\\': 6.0, \\'uv\\': 0.0, \\'gust_mph\\': 9.9, \\'gust_kph\\': 15.9}}\"}, {\\'url\\': \\'https://mausam.imd.gov.in/patna/\\', \\'content\\': \\'Forecast. Fog Forecast Patna & Gaya ; Urban Met Services; City Forecast; Bihar State Forecast ; Regional Forecast; ... Ajit Tyagi on 18th July 2024 ♦ \" IMD\\\\\\'s warnings through APIs and Social media \" ♦ Welcome to the Meteorological Centre Patna Website ... Current Weather Patna . 30 o C. 89%. 5.6 km/h; Observation Time: 01 Nov, 20.30 IST\\'}]', name='tavily_search_results_json', tool_call_id='call_mfw5')]\n",
      "[AIMessage(content='The current weather in Patna is clear with a temperature of 24.6°C (76.2°F) and a humidity of 45%. The wind is coming from the West-Southwest at a speed of 4.7 mph (7.6 km/h). According to the forecast, the temperature is expected to be around 30°C (86°F) with a humidity of 89% and winds blowing at a speed of 5.6 km/h.', additional_kwargs={}, response_metadata={'token_usage': {'completion_tokens': 97, 'prompt_tokens': 1604, 'total_tokens': 1701, 'completion_time': 0.080833333, 'prompt_time': 0.186203596, 'queue_time': 0.000439950999999994, 'total_time': 0.267036929}, 'model_name': 'llama3-8b-8192', 'system_fingerprint': 'fp_a97cfe35ae', 'finish_reason': 'stop', 'logprobs': None}, id='run-648767c9-c19b-4b53-a1db-21b3667e1ec4-0', usage_metadata={'input_tokens': 1604, 'output_tokens': 97, 'total_tokens': 1701})]\n",
      "[AIMessage(content='', additional_kwargs={'tool_calls': [{'id': 'call_r6k9', 'function': {'arguments': '{\"query\":\"weather in Bangalore\"}', 'name': 'tavily_search_results_json'}, 'type': 'function'}]}, response_metadata={'token_usage': {'completion_tokens': 42, 'prompt_tokens': 1717, 'total_tokens': 1759, 'completion_time': 0.035, 'prompt_time': 0.282576311, 'queue_time': 0.004743225999999989, 'total_time': 0.317576311}, 'model_name': 'llama3-8b-8192', 'system_fingerprint': 'fp_a97cfe35ae', 'finish_reason': 'tool_calls', 'logprobs': None}, id='run-fd12e2e4-f619-494e-9739-ef08c278aa57-0', tool_calls=[{'name': 'tavily_search_results_json', 'args': {'query': 'weather in Bangalore'}, 'id': 'call_r6k9', 'type': 'tool_call'}], usage_metadata={'input_tokens': 1717, 'output_tokens': 42, 'total_tokens': 1759})]\n",
      "Calling: {'name': 'tavily_search_results_json', 'args': {'query': 'weather in Bangalore'}, 'id': 'call_r6k9', 'type': 'tool_call'}\n",
      "Back to the model!\n",
      "[ToolMessage(content='[{\\'url\\': \\'https://www.weatherapi.com/\\', \\'content\\': \"{\\'location\\': {\\'name\\': \\'Bangalore\\', \\'region\\': \\'Karnataka\\', \\'country\\': \\'India\\', \\'lat\\': 12.9833, \\'lon\\': 77.5833, \\'tz_id\\': \\'Asia/Kolkata\\', \\'localtime_epoch\\': 1730652047, \\'localtime\\': \\'2024-11-03 22:10\\'}, \\'current\\': {\\'last_updated_epoch\\': 1730651400, \\'last_updated\\': \\'2024-11-03 22:00\\', \\'temp_c\\': 22.1, \\'temp_f\\': 71.8, \\'is_day\\': 0, \\'condition\\': {\\'text\\': \\'Light rain\\', \\'icon\\': \\'//cdn.weatherapi.com/weather/64x64/night/296.png\\', \\'code\\': 1183}, \\'wind_mph\\': 7.8, \\'wind_kph\\': 12.6, \\'wind_degree\\': 93, \\'wind_dir\\': \\'E\\', \\'pressure_mb\\': 1018.0, \\'pressure_in\\': 30.06, \\'precip_mm\\': 0.0, \\'precip_in\\': 0.0, \\'humidity\\': 88, \\'cloud\\': 50, \\'feelslike_c\\': 24.6, \\'feelslike_f\\': 76.2, \\'windchill_c\\': 21.0, \\'windchill_f\\': 69.7, \\'heatindex_c\\': 21.0, \\'heatindex_f\\': 69.7, \\'dewpoint_c\\': 18.4, \\'dewpoint_f\\': 65.2, \\'vis_km\\': 3.0, \\'vis_miles\\': 1.0, \\'uv\\': 0.0, \\'gust_mph\\': 13.0, \\'gust_kph\\': 20.8}}\"}, {\\'url\\': \\'https://www.hindustantimes.com/cities/bengaluru-news/bangalore-weather-today-aqi-and-rain-forecast-updates-november-3-2024-101730597407584.html\\', \\'content\\': \\'Bangalore Weather and AQI Today: Warm start at 19.7 °C, check weather forecast for November 3, 2024 | Bengaluru - Hindustan Times Bangalore Weather and AQI Today: Warm start at 19.7 °C, check weather forecast for November 3, 2024 News / Cities / Bengaluru / Bangalore Weather and AQI Today: Warm start at 19.7 °C, check weather forecast for November 3, 2024 India News India News Live Entertainment News Live Cricket News Live US News LIVE US Election 2024 News LIVE India News Live Entertainment News Live Cricket News Live India News Noida news Live Today November 3, 2024 : Noida Weather and AQI Today: Warm start at 19.16 °C, check weather forecast for November 3, 2024 India News US News india news\\'}]', name='tavily_search_results_json', tool_call_id='call_r6k9')]\n",
      "[AIMessage(content='The current weather in Bangalore is light rain with a temperature of 22.1°C (71.8°F) and a humidity of 88%. The wind is coming from the East at a speed of 7.8 mph (12.6 km/h). According to the forecast, the temperature is expected to be around 19.7°C (67.5°F) with a humidity of 65% and winds blowing at a speed of 13 mph (20.9 km/h).', additional_kwargs={}, response_metadata={'token_usage': {'completion_tokens': 101, 'prompt_tokens': 2432, 'total_tokens': 2533, 'completion_time': 0.084166667, 'prompt_time': 0.112346909, 'queue_time': 0.001993082000000007, 'total_time': 0.196513576}, 'model_name': 'llama3-8b-8192', 'system_fingerprint': 'fp_179b0f92c9', 'finish_reason': 'stop', 'logprobs': None}, id='run-de928e81-fb6f-485d-a820-29a6a3aa58fd-0', usage_metadata={'input_tokens': 2432, 'output_tokens': 101, 'total_tokens': 2533})]\n",
      "[AIMessage(content=\"Patna is warmer, with a temperature of 24.6°C (76.2°F), compared to Bangalore's temperature of 22.1°C (71.8°F).\", additional_kwargs={}, response_metadata={'token_usage': {'completion_tokens': 38, 'prompt_tokens': 2547, 'total_tokens': 2585, 'completion_time': 0.031666667, 'prompt_time': 0.146969764, 'queue_time': 0.002061813999999995, 'total_time': 0.178636431}, 'model_name': 'llama3-8b-8192', 'system_fingerprint': 'fp_179b0f92c9', 'finish_reason': 'stop', 'logprobs': None}, id='run-a38379e1-60a0-48c4-8201-5945e47744b3-0', usage_metadata={'input_tokens': 2547, 'output_tokens': 38, 'total_tokens': 2585})]\n"
     ]
    }
   ],
   "source": [
    "from langgraph.checkpoint.sqlite import SqliteSaver\n",
    "\n",
    "with SqliteSaver.from_conn_string(\":memory:\") as memory:\n",
    "    abot = Agent(model, [tool], system=prompt, checkpointer=memory)\n",
    "    messages = [HumanMessage(content='What is the weather in Patna?')]\n",
    "    thread = {\"configurable\": {\"thread_id\": \"1\"}}\n",
    "    for event in abot.graph.stream({\"messages\": messages}, thread):\n",
    "        for v in event.values():\n",
    "            print(v['messages'])\n",
    "    messages = [HumanMessage(content='What is the weather in Bangalore?')]\n",
    "    for event in abot.graph.stream({\"messages\": messages}, thread):\n",
    "        for v in event.values():\n",
    "            print(v['messages'])\n",
    "    messages = [HumanMessage(content='Which one is warmer?')]\n",
    "    for event in abot.graph.stream({\"messages\": messages}, thread):\n",
    "        for v in event.values():\n",
    "            print(v['messages'])"
   ]
  },
  {
   "cell_type": "markdown",
   "metadata": {},
   "source": [
    "Lets change the thread id"
   ]
  },
  {
   "cell_type": "code",
   "execution_count": 25,
   "metadata": {},
   "outputs": [
    {
     "name": "stdout",
     "output_type": "stream",
     "text": [
      "[AIMessage(content='', additional_kwargs={'tool_calls': [{'id': 'call_q14p', 'function': {'arguments': '{\"query\":\"weather in Patna\"}', 'name': 'tavily_search_results_json'}, 'type': 'function'}]}, response_metadata={'token_usage': {'completion_tokens': 80, 'prompt_tokens': 1015, 'total_tokens': 1095, 'completion_time': 0.066666667, 'prompt_time': 0.058401862, 'queue_time': 0.0014832780000000045, 'total_time': 0.125068529}, 'model_name': 'llama3-8b-8192', 'system_fingerprint': 'fp_179b0f92c9', 'finish_reason': 'tool_calls', 'logprobs': None}, id='run-b9e2e1a0-fef0-49d5-96c8-4eac98177520-0', tool_calls=[{'name': 'tavily_search_results_json', 'args': {'query': 'weather in Patna'}, 'id': 'call_q14p', 'type': 'tool_call'}], usage_metadata={'input_tokens': 1015, 'output_tokens': 80, 'total_tokens': 1095})]\n",
      "Calling: {'name': 'tavily_search_results_json', 'args': {'query': 'weather in Patna'}, 'id': 'call_q14p', 'type': 'tool_call'}\n",
      "Back to the model!\n",
      "[ToolMessage(content='[{\\'url\\': \\'https://www.weatherapi.com/\\', \\'content\\': \"{\\'location\\': {\\'name\\': \\'Patna\\', \\'region\\': \\'Bihar\\', \\'country\\': \\'India\\', \\'lat\\': 25.6, \\'lon\\': 85.1167, \\'tz_id\\': \\'Asia/Kolkata\\', \\'localtime_epoch\\': 1730652158, \\'localtime\\': \\'2024-11-03 22:12\\'}, \\'current\\': {\\'last_updated_epoch\\': 1730651400, \\'last_updated\\': \\'2024-11-03 22:00\\', \\'temp_c\\': 24.6, \\'temp_f\\': 76.2, \\'is_day\\': 0, \\'condition\\': {\\'text\\': \\'Clear\\', \\'icon\\': \\'//cdn.weatherapi.com/weather/64x64/night/113.png\\', \\'code\\': 1000}, \\'wind_mph\\': 4.7, \\'wind_kph\\': 7.6, \\'wind_degree\\': 236, \\'wind_dir\\': \\'WSW\\', \\'pressure_mb\\': 1013.0, \\'pressure_in\\': 29.9, \\'precip_mm\\': 0.0, \\'precip_in\\': 0.0, \\'humidity\\': 45, \\'cloud\\': 13, \\'feelslike_c\\': 25.4, \\'feelslike_f\\': 77.6, \\'windchill_c\\': 24.6, \\'windchill_f\\': 76.2, \\'heatindex_c\\': 25.4, \\'heatindex_f\\': 77.6, \\'dewpoint_c\\': 12.0, \\'dewpoint_f\\': 53.5, \\'vis_km\\': 10.0, \\'vis_miles\\': 6.0, \\'uv\\': 0.0, \\'gust_mph\\': 9.9, \\'gust_kph\\': 15.9}}\"}, {\\'url\\': \\'https://www.indiatoday.in/weather/patna-weather-forecast-today\\', \\'content\\': \\'Patna Weather Today, Patna Temperature and Air Quality (2024-11-02) - India Today India Today Business Today Brides Today India Today Hindi Latest Edition Sports Today Law Today News / Weather / Weather Today Patna Weather Today (Saturday, Nov 02, 2024) Weather In Patna The minimum temperature in Patna today is likely to hover around 22 degrees Celsius, while the maximum temperature might reach 32 degrees Celsius. India Today Business Today India Today-Hindi India Today TV Good News Today India Today Conclave AajTak Radio India Today Gaming Care Today Headlines Today India Today India Today Malayalam India Today NE Business Today\\'}]', name='tavily_search_results_json', tool_call_id='call_q14p')]\n",
      "[AIMessage(content='The current weather in Patna is Clear with a temperature of 24.6°C (76.2°F). The maximum temperature is expected to reach 32°C (89.6°F) and the minimum temperature is expected to be around 22°C (71.6°F).', additional_kwargs={}, response_metadata={'token_usage': {'completion_tokens': 58, 'prompt_tokens': 1647, 'total_tokens': 1705, 'completion_time': 0.048333333, 'prompt_time': 0.237943025, 'queue_time': 0.0017155289999999934, 'total_time': 0.286276358}, 'model_name': 'llama3-8b-8192', 'system_fingerprint': 'fp_6a6771ae9c', 'finish_reason': 'stop', 'logprobs': None}, id='run-41f302ca-1c7f-4d9c-a619-c1a6e089c97b-0', usage_metadata={'input_tokens': 1647, 'output_tokens': 58, 'total_tokens': 1705})]\n",
      "[AIMessage(content='', additional_kwargs={'tool_calls': [{'id': 'call_cw38', 'function': {'arguments': '{\"query\":\"weather in Bangalore\"}', 'name': 'tavily_search_results_json'}, 'type': 'function'}]}, response_metadata={'token_usage': {'completion_tokens': 44, 'prompt_tokens': 1721, 'total_tokens': 1765, 'completion_time': 0.036666667, 'prompt_time': 0.079653453, 'queue_time': 0.0028383069999999982, 'total_time': 0.11632012}, 'model_name': 'llama3-8b-8192', 'system_fingerprint': 'fp_179b0f92c9', 'finish_reason': 'tool_calls', 'logprobs': None}, id='run-0e018ff5-e82c-430c-b746-1207097b8daa-0', tool_calls=[{'name': 'tavily_search_results_json', 'args': {'query': 'weather in Bangalore'}, 'id': 'call_cw38', 'type': 'tool_call'}], usage_metadata={'input_tokens': 1721, 'output_tokens': 44, 'total_tokens': 1765})]\n",
      "Calling: {'name': 'tavily_search_results_json', 'args': {'query': 'weather in Bangalore'}, 'id': 'call_cw38', 'type': 'tool_call'}\n",
      "Back to the model!\n",
      "[ToolMessage(content='[{\\'url\\': \\'https://www.weatherapi.com/\\', \\'content\\': \"{\\'location\\': {\\'name\\': \\'Bangalore\\', \\'region\\': \\'Karnataka\\', \\'country\\': \\'India\\', \\'lat\\': 12.9833, \\'lon\\': 77.5833, \\'tz_id\\': \\'Asia/Kolkata\\', \\'localtime_epoch\\': 1730652047, \\'localtime\\': \\'2024-11-03 22:10\\'}, \\'current\\': {\\'last_updated_epoch\\': 1730651400, \\'last_updated\\': \\'2024-11-03 22:00\\', \\'temp_c\\': 22.1, \\'temp_f\\': 71.8, \\'is_day\\': 0, \\'condition\\': {\\'text\\': \\'Light rain\\', \\'icon\\': \\'//cdn.weatherapi.com/weather/64x64/night/296.png\\', \\'code\\': 1183}, \\'wind_mph\\': 7.8, \\'wind_kph\\': 12.6, \\'wind_degree\\': 93, \\'wind_dir\\': \\'E\\', \\'pressure_mb\\': 1018.0, \\'pressure_in\\': 30.06, \\'precip_mm\\': 0.0, \\'precip_in\\': 0.0, \\'humidity\\': 88, \\'cloud\\': 50, \\'feelslike_c\\': 24.6, \\'feelslike_f\\': 76.2, \\'windchill_c\\': 21.0, \\'windchill_f\\': 69.7, \\'heatindex_c\\': 21.0, \\'heatindex_f\\': 69.7, \\'dewpoint_c\\': 18.4, \\'dewpoint_f\\': 65.2, \\'vis_km\\': 3.0, \\'vis_miles\\': 1.0, \\'uv\\': 0.0, \\'gust_mph\\': 13.0, \\'gust_kph\\': 20.8}}\"}, {\\'url\\': \\'https://www.hindustantimes.com/cities/bengaluru-news/bangalore-weather-today-aqi-and-rain-forecast-updates-november-3-2024-101730597407584.html\\', \\'content\\': \\'Bangalore Weather and AQI Today: Warm start at 19.7 °C, check weather forecast for November 3, 2024 | Bengaluru - Hindustan Times Bangalore Weather and AQI Today: Warm start at 19.7 °C, check weather forecast for November 3, 2024 News / Cities / Bengaluru / Bangalore Weather and AQI Today: Warm start at 19.7 °C, check weather forecast for November 3, 2024 India News India News Live Entertainment News Live Cricket News Live US News LIVE US Election 2024 News LIVE India News Live Entertainment News Live Cricket News Live India News Noida news Live Today November 3, 2024 : Noida Weather and AQI Today: Warm start at 19.16 °C, check weather forecast for November 3, 2024 India News US News india news\\'}]', name='tavily_search_results_json', tool_call_id='call_cw38')]\n",
      "[AIMessage(content='The current weather in Bangalore is Light rain with a temperature of 22.1°C (71.8°F). The maximum temperature is expected to be around 19.7°C (67.5°F) with a humidity of 88% and moderate winds.', additional_kwargs={}, response_metadata={'token_usage': {'completion_tokens': 54, 'prompt_tokens': 2434, 'total_tokens': 2488, 'completion_time': 0.045, 'prompt_time': 0.134134126, 'queue_time': 0.0018581540000000007, 'total_time': 0.179134126}, 'model_name': 'llama3-8b-8192', 'system_fingerprint': 'fp_179b0f92c9', 'finish_reason': 'stop', 'logprobs': None}, id='run-db805c3c-4af2-4e50-9066-5f12c08a9cb2-0', usage_metadata={'input_tokens': 2434, 'output_tokens': 54, 'total_tokens': 2488})]\n",
      "[AIMessage(content='', additional_kwargs={'tool_calls': [{'id': 'call_r2vs', 'function': {'arguments': '{\"query\":\"temperature comparison\"}', 'name': 'tavily_search_results_json'}, 'type': 'function'}]}, response_metadata={'token_usage': {'completion_tokens': 71, 'prompt_tokens': 1012, 'total_tokens': 1083, 'completion_time': 0.059166667, 'prompt_time': 0.117976734, 'queue_time': 0.024659975, 'total_time': 0.177143401}, 'model_name': 'llama3-8b-8192', 'system_fingerprint': 'fp_a97cfe35ae', 'finish_reason': 'tool_calls', 'logprobs': None}, id='run-30b05065-b5e1-45ea-a35b-335c26076ba9-0', tool_calls=[{'name': 'tavily_search_results_json', 'args': {'query': 'temperature comparison'}, 'id': 'call_r2vs', 'type': 'tool_call'}], usage_metadata={'input_tokens': 1012, 'output_tokens': 71, 'total_tokens': 1083})]\n",
      "Calling: {'name': 'tavily_search_results_json', 'args': {'query': 'temperature comparison'}, 'id': 'call_r2vs', 'type': 'tool_call'}\n",
      "Back to the model!\n",
      "[ToolMessage(content='[{\\'url\\': \\'https://www.wunderground.com/history\\', \\'content\\': \"Manhattan, NY warning57 °F Sunny. Schiller Park, IL (60176) warning59 °F Sunny. Boston, MA warning52 °F Sunny. Houston, TX warning87 °F Sunny. St James\\'s, England, United Kingdom 52 °F Clear\"}, {\\'url\\': \\'https://www.diffen.com/difference/Celsius_vs_Fahrenheit\\', \\'content\\': \\'Learn how Celsius and Fahrenheit are different scales to measure temperature, and see a comparison chart of their values. Find out the history, usage, and conversion of the two systems.\\'}]', name='tavily_search_results_json', tool_call_id='call_r2vs')]\n",
      "[AIMessage(content='Based on the results from the tool call, it appears that Houston, TX is the warmest with a temperature of 87 °F.', additional_kwargs={}, response_metadata={'token_usage': {'completion_tokens': 29, 'prompt_tokens': 1211, 'total_tokens': 1240, 'completion_time': 0.024166667, 'prompt_time': 0.055860117, 'queue_time': 0.0020134239999999998, 'total_time': 0.080026784}, 'model_name': 'llama3-8b-8192', 'system_fingerprint': 'fp_179b0f92c9', 'finish_reason': 'stop', 'logprobs': None}, id='run-71e5a87c-c6c2-46dd-8fae-b29c385643a1-0', usage_metadata={'input_tokens': 1211, 'output_tokens': 29, 'total_tokens': 1240})]\n"
     ]
    }
   ],
   "source": [
    "from langgraph.checkpoint.sqlite import SqliteSaver\n",
    "\n",
    "with SqliteSaver.from_conn_string(\":memory:\") as memory:\n",
    "    abot = Agent(model, [tool], system=prompt, checkpointer=memory)\n",
    "    messages = [HumanMessage(content='What is the weather in Patna?')]\n",
    "    thread = {\"configurable\": {\"thread_id\": \"1\"}}\n",
    "    for event in abot.graph.stream({\"messages\": messages}, thread):\n",
    "        for v in event.values():\n",
    "            print(v['messages'])\n",
    "    messages = [HumanMessage(content='What is the weather in Bangalore?')]\n",
    "    for event in abot.graph.stream({\"messages\": messages}, thread):\n",
    "        for v in event.values():\n",
    "            print(v['messages'])\n",
    "    thread = {\"configurable\": {\"thread_id\": \"2\"}}\n",
    "    messages = [HumanMessage(content='Which one is warmer?')]\n",
    "    for event in abot.graph.stream({\"messages\": messages}, thread):\n",
    "        for v in event.values():\n",
    "            print(v['messages'])"
   ]
  },
  {
   "cell_type": "markdown",
   "metadata": {},
   "source": [
    "As we see, it loses the context"
   ]
  }
 ],
 "metadata": {
  "kernelspec": {
   "display_name": "Python 3",
   "language": "python",
   "name": "python3"
  },
  "language_info": {
   "codemirror_mode": {
    "name": "ipython",
    "version": 3
   },
   "file_extension": ".py",
   "mimetype": "text/x-python",
   "name": "python",
   "nbconvert_exporter": "python",
   "pygments_lexer": "ipython3",
   "version": "3.13.0"
  }
 },
 "nbformat": 4,
 "nbformat_minor": 2
}
